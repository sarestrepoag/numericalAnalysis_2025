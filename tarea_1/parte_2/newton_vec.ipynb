{
 "cells": [
  {
   "cell_type": "markdown",
   "id": "658d780f",
   "metadata": {},
   "source": [
    "### Implementation with autograd"
   ]
  },
  {
   "cell_type": "code",
   "execution_count": 45,
   "id": "ffa285f1",
   "metadata": {},
   "outputs": [
    {
     "name": "stdout",
     "output_type": "stream",
     "text": [
      "Solution: θ1 = 0.165550, θ2 = 2.058671\n",
      "Iterations: 5\n"
     ]
    }
   ],
   "source": [
    "import autograd.numpy as anp\n",
    "import numpy as np\n",
    "from autograd import jacobian\n",
    "\n",
    "np.set_printoptions(suppress=True)\n",
    "\n",
    "\n",
    "def newton_autograd(F, x0, delta, m):\n",
    "    J = jacobian(F)\n",
    "    x = np.asarray(x0, dtype=float)\n",
    "\n",
    "    for i in range(m):\n",
    "        s = np.linalg.solve(J(x), -F(x))\n",
    "        x = x + s\n",
    "\n",
    "        if np.linalg.norm(F(x)) < delta:\n",
    "            return {\n",
    "                \"solution\": x,\n",
    "                \"iterations\": i + 1,\n",
    "                \"message\": f\"Convergence reached after {i+1} iterations\",\n",
    "            }\n",
    "\n",
    "    return {\n",
    "        \"solution\": x,\n",
    "        \"iterations\": m,\n",
    "        \"message\": f\"Maximum iterations ({m}) reached\",\n",
    "    }\n",
    "\n",
    "\n",
    "if __name__ == \"__main__\":\n",
    "    L1 = 1\n",
    "    L2 = 0.8\n",
    "\n",
    "    xd = 0.5\n",
    "    yd = 0.8\n",
    "\n",
    "    F = lambda x: anp.array(\n",
    "        [\n",
    "            L2 * anp.cos(x[0] + x[1]) + L1 * anp.cos(x[0]) - xd,\n",
    "            L2 * anp.sin(x[0] + x[1]) + L1 * anp.sin(x[0]) - yd,\n",
    "        ]\n",
    "    )\n",
    "\n",
    "    x0 = [1, 1]\n",
    "    delta = 1e-5\n",
    "    m = 1000\n",
    "\n",
    "    r = newton_autograd(F, x0, delta, m)\n",
    "\n",
    "    print(f\"Solution: θ1 = {r['solution'][0]:.6f}, θ2 = {r['solution'][1]:.6f}\")\n",
    "    print(f\"Iterations: {r['iterations']}\")"
   ]
  },
  {
   "cell_type": "markdown",
   "id": "91b06fdb",
   "metadata": {},
   "source": [
    "### Implementation calculating the Jacobian manually"
   ]
  },
  {
   "cell_type": "code",
   "execution_count": null,
   "id": "ba7ef166",
   "metadata": {},
   "outputs": [
    {
     "name": "stdout",
     "output_type": "stream",
     "text": [
      "Solution: θ1 = 0.165550, θ2 = 2.058671\n",
      "Iterations: 5\n"
     ]
    }
   ],
   "source": [
    "def newton_manual(F, J, x0, delta, m):\n",
    "    x = np.asarray(x0, dtype=float)\n",
    "\n",
    "    for i in range(m):\n",
    "        s = np.linalg.solve(J(x), -F(x))\n",
    "        x = x + s\n",
    "\n",
    "        if np.linalg.norm(F(x)) < delta:\n",
    "            return {\n",
    "                \"solution\": x,\n",
    "                \"iterations\": i + 1,\n",
    "                \"message\": f\"Convergence reached after {i+1} iterations\",\n",
    "            }\n",
    "\n",
    "    return {\n",
    "        \"solution\": x,\n",
    "        \"iterations\": m,\n",
    "        \"message\": f\"Maximum iterations ({m}) reached\",\n",
    "    }\n",
    "\n",
    "\n",
    "if __name__ == \"__main__\":\n",
    "    F = lambda x: np.array(\n",
    "        [\n",
    "            L2 * np.cos(x[0] + x[1]) + L1 * np.cos(x[0]) - xd,\n",
    "            L2 * np.sin(x[0] + x[1]) + L1 * np.sin(x[0]) - yd,\n",
    "        ]\n",
    "    )\n",
    "    \n",
    "    # Manual Jacobian matrix\n",
    "    def J(x):\n",
    "        θ1, θ2 = x[0], x[1]\n",
    "        \n",
    "        # partial derivatives of F        \n",
    "        dF1_dtheta1 = -L2 * np.sin(θ1 + θ2) - L1 * np.sin(θ1)\n",
    "        dF1_dtheta2 = -L2 * np.sin(θ1 + θ2)\n",
    "        dF2_dtheta1 = L2 * np.cos(θ1 + θ2) + L1 * np.cos(θ1)\n",
    "        dF2_dtheta2 = L2 * np.cos(θ1 + θ2)\n",
    "        \n",
    "        return np.array([[dF1_dtheta1, dF1_dtheta2],\n",
    "                         [dF2_dtheta1, dF2_dtheta2]])\n",
    "\n",
    "    r = newton_manual(F, J, x0, delta, m)\n",
    "\n",
    "    print(f\"Solution: θ1 = {r['solution'][0]:.6f}, θ2 = {r['solution'][1]:.6f}\")\n",
    "    print(f\"Iterations: {r['iterations']}\")"
   ]
  },
  {
   "cell_type": "code",
   "execution_count": 47,
   "id": "00e8b87a",
   "metadata": {},
   "outputs": [
    {
     "name": "stdout",
     "output_type": "stream",
     "text": [
      "Autograd Approach:\n",
      "  Solution: θ₁ = 0.16555028, θ₂ = 2.05867148\n",
      "  Iterations: 5\n",
      "  Time: 4.2090 ms\n",
      "\n",
      "Manual Jacobian Approach:\n",
      "  Solution: θ₁ = 0.16555028, θ₂ = 2.05867148\n",
      "  Iterations: 5\n",
      "  Time: 0.4499 ms\n"
     ]
    }
   ],
   "source": [
    "import time\n",
    "\n",
    "F_autograd = lambda x: anp.array(\n",
    "        [\n",
    "            L2 * anp.cos(x[0] + x[1]) + L1 * anp.cos(x[0]) - xd,\n",
    "            L2 * anp.sin(x[0] + x[1]) + L1 * anp.sin(x[0]) - yd,\n",
    "        ]\n",
    "    )\n",
    "\n",
    "F_manual = lambda x: np.array(\n",
    "    [\n",
    "        L2 * np.cos(x[0] + x[1]) + L1 * np.cos(x[0]) - xd,\n",
    "        L2 * np.sin(x[0] + x[1]) + L1 * np.sin(x[0]) - yd,\n",
    "    ]\n",
    ")\n",
    "\n",
    "def J_manual(x):\n",
    "    t1, t2 = x[0], x[1]\n",
    "    dF1_dtheta1 = -L2 * np.sin(t1 + t2) - L1 * np.sin(t1)\n",
    "    dF1_dtheta2 = -L2 * np.sin(t1 + t2)\n",
    "    dF2_dtheta1 = L2 * np.cos(t1 + t2) + L1 * np.cos(t1)\n",
    "    dF2_dtheta2 = L2 * np.cos(t1 + t2)\n",
    "    return np.array([[dF1_dtheta1, dF1_dtheta2],\n",
    "                     [dF2_dtheta1, dF2_dtheta2]])\n",
    "\n",
    "# Autograd\n",
    "start_time = time.time()\n",
    "result_autograd = newton_autograd(F_autograd, x0, delta, m)\n",
    "time_autograd = time.time() - start_time\n",
    "\n",
    "# Manual Jacobian calculation\n",
    "start_time = time.time()  \n",
    "result_manual = newton_manual(F_manual, J_manual, x0, delta, m)\n",
    "time_manual = time.time() - start_time\n",
    "\n",
    "print(f\"Autograd Approach:\")\n",
    "print(f\"  Solution: θ₁ = {result_autograd['solution'][0]:.8f}, θ₂ = {result_autograd['solution'][1]:.8f}\")\n",
    "print(f\"  Iterations: {result_autograd['iterations']}\")\n",
    "print(f\"  Time: {time_autograd*1000:.4f} ms\")\n",
    "print()\n",
    "print(f\"Manual Jacobian Approach:\")\n",
    "print(f\"  Solution: θ₁ = {result_manual['solution'][0]:.8f}, θ₂ = {result_manual['solution'][1]:.8f}\")\n",
    "print(f\"  Iterations: {result_manual['iterations']}\")\n",
    "print(f\"  Time: {time_manual*1000:.4f} ms\")"
   ]
  },
  {
   "cell_type": "markdown",
   "id": "0d82062d",
   "metadata": {},
   "source": [
    "### Least squares to solve for the step"
   ]
  },
  {
   "cell_type": "code",
   "execution_count": 48,
   "id": "fa836418",
   "metadata": {},
   "outputs": [
    {
     "name": "stdout",
     "output_type": "stream",
     "text": [
      "Solution: [0.56265731 0.79471677 1.2463618 ]\n",
      "Message: Convergence reached after 4 iterations\n"
     ]
    }
   ],
   "source": [
    "def newton_autograd_lstsq(F, x0, delta, m):\n",
    "    J = jacobian(F)\n",
    "    x = np.asarray(x0, dtype=float)\n",
    "\n",
    "    for i in range(m):\n",
    "        s, _, _, _ = np.linalg.lstsq(J(x), -F(x), rcond=None)\n",
    "        x = x + s\n",
    "\n",
    "        if np.linalg.norm(F(x)) < delta:\n",
    "            return {\n",
    "                \"solution\": x,\n",
    "                \"message\": f\"Convergence reached after {i+1} iterations\",\n",
    "            }\n",
    "\n",
    "    return {\n",
    "        \"solution\": x,\n",
    "        \"message\": f\"Maximum iterations ({m}) reached\",\n",
    "    }\n",
    "    \n",
    "if __name__ == \"__main__\":\n",
    "    L3 = 0.6\n",
    "    \n",
    "    F = lambda x: anp.array([\n",
    "        L1*anp.cos(x[0]) + L2*anp.cos(x[0] + x[1]) + L3*anp.cos(x[0] + x[1] + x[2]) - xd,\n",
    "        L1*anp.sin(x[0]) + L2*anp.sin(x[0] + x[1]) + L3*anp.cos(x[0] + x[1] + x[2]) - yd\n",
    "    ])\n",
    "\n",
    "    # inital theta (in radians)\n",
    "    x0 = [0.6, 0.5, 0.9] \n",
    "\n",
    "    result = newton_autograd_lstsq(F, x0, delta=1e-8, m=100)\n",
    "    print(f\"Solution: {result['solution']}\")\n",
    "    print(f\"Message: {result['message']}\")\n"
   ]
  }
 ],
 "metadata": {
  "kernelspec": {
   "display_name": ".venv",
   "language": "python",
   "name": "python3"
  },
  "language_info": {
   "codemirror_mode": {
    "name": "ipython",
    "version": 3
   },
   "file_extension": ".py",
   "mimetype": "text/x-python",
   "name": "python",
   "nbconvert_exporter": "python",
   "pygments_lexer": "ipython3",
   "version": "3.13.5"
  }
 },
 "nbformat": 4,
 "nbformat_minor": 5
}
